{
  "nbformat": 4,
  "nbformat_minor": 0,
  "metadata": {
    "colab": {
      "name": "Supervised ML.ipynb",
      "provenance": []
    },
    "kernelspec": {
      "name": "python3",
      "display_name": "Python 3"
    }
  },
  "cells": [
    {
      "cell_type": "markdown",
      "metadata": {
        "id": "SSENImndUCtE",
        "colab_type": "text"
      },
      "source": [
        "# **Task 1: To Explore Supervised Machine Learning.**\n",
        "\n"
      ]
    },
    {
      "cell_type": "markdown",
      "metadata": {
        "id": "r9LjQgUooyc3",
        "colab_type": "text"
      },
      "source": [
        "## **Overview:**\n",
        "1. Understanding the problem Statement.\n",
        "2. Importing Required Libraires.\n",
        "3. Loading the Dataset.\n",
        "4. Variable Identification and Typecasting\n",
        "5. Exploratory Data Analysis.\n",
        "6. Data Preparation.\n",
        "7. Model Training: Linear regression\n",
        "8. Making Predictions\n",
        "9. Testing model with our own dataset.\n",
        "10. Evaluating our Model\n",
        "\n"
      ]
    },
    {
      "cell_type": "markdown",
      "metadata": {
        "id": "jPBz_QPLqV0f",
        "colab_type": "text"
      },
      "source": [
        "## **1. Understanding the problem statement.**\n",
        "## **Linear Regression with Python Scikit Learn**\n",
        "In this section we will see how the Python Scikit-Learn library for machine learning can be used to implement regression functions. We will start with simple linear regression involving two variables.\n",
        "\n",
        "### **Simple Linear Regression**\n",
        "In this regression task we will predict the percentage of marks that a student is expected to score based upon the number of hours they studied. This is a simple linear regression task as it involves just two variables."
      ]
    },
    {
      "cell_type": "markdown",
      "metadata": {
        "id": "m6Y0m2I4Ug-L",
        "colab_type": "text"
      },
      "source": [
        "## **2 Importing Required libraries.**"
      ]
    },
    {
      "cell_type": "code",
      "metadata": {
        "id": "vMj3WmfJUBZb",
        "colab_type": "code",
        "colab": {}
      },
      "source": [
        "import pandas as pd\n",
        "import numpy as np  \n",
        "import matplotlib.pyplot as plt  \n",
        "%matplotlib inline"
      ],
      "execution_count": 111,
      "outputs": []
    },
    {
      "cell_type": "markdown",
      "metadata": {
        "id": "BylVaguaqtUP",
        "colab_type": "text"
      },
      "source": [
        "## **3. Loading the Dataset.**"
      ]
    },
    {
      "cell_type": "code",
      "metadata": {
        "id": "a3YKWxZpVE3M",
        "colab_type": "code",
        "colab": {
          "base_uri": "https://localhost:8080/",
          "height": 195
        },
        "outputId": "7a433cc9-4016-4e5c-f7f6-f72b70edc15e"
      },
      "source": [
        "# Loading the dataset from the remote link.\n",
        "data = pd.read_csv(\"http://bit.ly/w-data\")\n",
        "data.head()"
      ],
      "execution_count": 112,
      "outputs": [
        {
          "output_type": "execute_result",
          "data": {
            "text/html": [
              "<div>\n",
              "<style scoped>\n",
              "    .dataframe tbody tr th:only-of-type {\n",
              "        vertical-align: middle;\n",
              "    }\n",
              "\n",
              "    .dataframe tbody tr th {\n",
              "        vertical-align: top;\n",
              "    }\n",
              "\n",
              "    .dataframe thead th {\n",
              "        text-align: right;\n",
              "    }\n",
              "</style>\n",
              "<table border=\"1\" class=\"dataframe\">\n",
              "  <thead>\n",
              "    <tr style=\"text-align: right;\">\n",
              "      <th></th>\n",
              "      <th>Hours</th>\n",
              "      <th>Scores</th>\n",
              "    </tr>\n",
              "  </thead>\n",
              "  <tbody>\n",
              "    <tr>\n",
              "      <th>0</th>\n",
              "      <td>2.5</td>\n",
              "      <td>21</td>\n",
              "    </tr>\n",
              "    <tr>\n",
              "      <th>1</th>\n",
              "      <td>5.1</td>\n",
              "      <td>47</td>\n",
              "    </tr>\n",
              "    <tr>\n",
              "      <th>2</th>\n",
              "      <td>3.2</td>\n",
              "      <td>27</td>\n",
              "    </tr>\n",
              "    <tr>\n",
              "      <th>3</th>\n",
              "      <td>8.5</td>\n",
              "      <td>75</td>\n",
              "    </tr>\n",
              "    <tr>\n",
              "      <th>4</th>\n",
              "      <td>3.5</td>\n",
              "      <td>30</td>\n",
              "    </tr>\n",
              "  </tbody>\n",
              "</table>\n",
              "</div>"
            ],
            "text/plain": [
              "   Hours  Scores\n",
              "0    2.5      21\n",
              "1    5.1      47\n",
              "2    3.2      27\n",
              "3    8.5      75\n",
              "4    3.5      30"
            ]
          },
          "metadata": {
            "tags": []
          },
          "execution_count": 112
        }
      ]
    },
    {
      "cell_type": "markdown",
      "metadata": {
        "id": "U4B4IIWNVYrL",
        "colab_type": "text"
      },
      "source": [
        "This shows that our data has been loaded successfully."
      ]
    },
    {
      "cell_type": "markdown",
      "metadata": {
        "id": "36uVHzt0rAaA",
        "colab_type": "text"
      },
      "source": [
        "## **4. Varaible Identification and Type casting**"
      ]
    },
    {
      "cell_type": "code",
      "metadata": {
        "id": "1-D67KHXVgbm",
        "colab_type": "code",
        "colab": {
          "base_uri": "https://localhost:8080/",
          "height": 34
        },
        "outputId": "324449b6-3d7a-4dc1-bab4-5a5e220f75fa"
      },
      "source": [
        "data.shape"
      ],
      "execution_count": 113,
      "outputs": [
        {
          "output_type": "execute_result",
          "data": {
            "text/plain": [
              "(25, 2)"
            ]
          },
          "metadata": {
            "tags": []
          },
          "execution_count": 113
        }
      ]
    },
    {
      "cell_type": "markdown",
      "metadata": {
        "id": "tCmS0Q8iVlk_",
        "colab_type": "text"
      },
      "source": [
        "Note- Our dataset consists of 25 rows and 2 columns(features)"
      ]
    },
    {
      "cell_type": "code",
      "metadata": {
        "id": "cXaV-nxjVzx9",
        "colab_type": "code",
        "colab": {
          "base_uri": "https://localhost:8080/",
          "height": 34
        },
        "outputId": "fef921ec-6782-4fe0-da81-d6d85e5abfe1"
      },
      "source": [
        "data.columns"
      ],
      "execution_count": 114,
      "outputs": [
        {
          "output_type": "execute_result",
          "data": {
            "text/plain": [
              "Index(['Hours', 'Scores'], dtype='object')"
            ]
          },
          "metadata": {
            "tags": []
          },
          "execution_count": 114
        }
      ]
    },
    {
      "cell_type": "code",
      "metadata": {
        "id": "b_L3bvAvVvCP",
        "colab_type": "code",
        "colab": {
          "base_uri": "https://localhost:8080/",
          "height": 168
        },
        "outputId": "de46b025-0292-4b39-82ee-b8f90c2564a3"
      },
      "source": [
        "data.info()"
      ],
      "execution_count": 115,
      "outputs": [
        {
          "output_type": "stream",
          "text": [
            "<class 'pandas.core.frame.DataFrame'>\n",
            "RangeIndex: 25 entries, 0 to 24\n",
            "Data columns (total 2 columns):\n",
            " #   Column  Non-Null Count  Dtype  \n",
            "---  ------  --------------  -----  \n",
            " 0   Hours   25 non-null     float64\n",
            " 1   Scores  25 non-null     int64  \n",
            "dtypes: float64(1), int64(1)\n",
            "memory usage: 528.0 bytes\n"
          ],
          "name": "stdout"
        }
      ]
    },
    {
      "cell_type": "markdown",
      "metadata": {
        "id": "YH53SJ3gV4Rs",
        "colab_type": "text"
      },
      "source": [
        "**Observations** - Training data has 2 features. One is Hours consists of numeric variable and scores which is also a numeric variable.\n",
        "\n",
        "Hours(Independent features).<br>\n",
        "Scores( Dependent feature or target variable).\n",
        "\n",
        "Since our target variable is of numeric data type so this problem is of **Regression Problem.**\n"
      ]
    },
    {
      "cell_type": "markdown",
      "metadata": {
        "id": "Bb70UlZmXQpE",
        "colab_type": "text"
      },
      "source": [
        "* **Checking for missing values**"
      ]
    },
    {
      "cell_type": "code",
      "metadata": {
        "id": "HxKNTb0VV3Xl",
        "colab_type": "code",
        "colab": {
          "base_uri": "https://localhost:8080/",
          "height": 67
        },
        "outputId": "ccb0969f-249c-41ac-b44f-d110b0a04c48"
      },
      "source": [
        "data.isnull().sum()"
      ],
      "execution_count": 116,
      "outputs": [
        {
          "output_type": "execute_result",
          "data": {
            "text/plain": [
              "Hours     0\n",
              "Scores    0\n",
              "dtype: int64"
            ]
          },
          "metadata": {
            "tags": []
          },
          "execution_count": 116
        }
      ]
    },
    {
      "cell_type": "markdown",
      "metadata": {
        "id": "_4zv8C0fXaKF",
        "colab_type": "text"
      },
      "source": [
        "### * Our training data does not contain any missing values."
      ]
    },
    {
      "cell_type": "markdown",
      "metadata": {
        "id": "hzu6uZiBXmXV",
        "colab_type": "text"
      },
      "source": [
        "## **5. Exploratory Data Analysis**"
      ]
    },
    {
      "cell_type": "markdown",
      "metadata": {
        "id": "vl5GHGowXsau",
        "colab_type": "text"
      },
      "source": [
        "Let's find the corelation between our dependent and independent variable."
      ]
    },
    {
      "cell_type": "code",
      "metadata": {
        "id": "ERbd1JQiVhpx",
        "colab_type": "code",
        "colab": {
          "base_uri": "https://localhost:8080/",
          "height": 106
        },
        "outputId": "6da85a5a-931a-40ef-8214-5638bdb89b44"
      },
      "source": [
        "data.corr(method='pearson')"
      ],
      "execution_count": 117,
      "outputs": [
        {
          "output_type": "execute_result",
          "data": {
            "text/html": [
              "<div>\n",
              "<style scoped>\n",
              "    .dataframe tbody tr th:only-of-type {\n",
              "        vertical-align: middle;\n",
              "    }\n",
              "\n",
              "    .dataframe tbody tr th {\n",
              "        vertical-align: top;\n",
              "    }\n",
              "\n",
              "    .dataframe thead th {\n",
              "        text-align: right;\n",
              "    }\n",
              "</style>\n",
              "<table border=\"1\" class=\"dataframe\">\n",
              "  <thead>\n",
              "    <tr style=\"text-align: right;\">\n",
              "      <th></th>\n",
              "      <th>Hours</th>\n",
              "      <th>Scores</th>\n",
              "    </tr>\n",
              "  </thead>\n",
              "  <tbody>\n",
              "    <tr>\n",
              "      <th>Hours</th>\n",
              "      <td>1.000000</td>\n",
              "      <td>0.976191</td>\n",
              "    </tr>\n",
              "    <tr>\n",
              "      <th>Scores</th>\n",
              "      <td>0.976191</td>\n",
              "      <td>1.000000</td>\n",
              "    </tr>\n",
              "  </tbody>\n",
              "</table>\n",
              "</div>"
            ],
            "text/plain": [
              "           Hours    Scores\n",
              "Hours   1.000000  0.976191\n",
              "Scores  0.976191  1.000000"
            ]
          },
          "metadata": {
            "tags": []
          },
          "execution_count": 117
        }
      ]
    },
    {
      "cell_type": "code",
      "metadata": {
        "id": "cDl50cetYhhE",
        "colab_type": "code",
        "colab": {
          "base_uri": "https://localhost:8080/",
          "height": 408
        },
        "outputId": "bec4175b-0f3b-4dba-844e-422d7b753ed9"
      },
      "source": [
        "# Let's plot the scatter diagram between independent and dependent features.\n",
        "plt.figure(figsize = (8,6))\n",
        "plt.scatter(x = data['Hours'], y= data['Scores'])\n",
        "plt.title('Hours vs Percentage Score', fontsize = 14, fontweight = 'bold')  \n",
        "plt.xlabel('Hours Studied',fontsize = 12, fontweight = 'bold')  \n",
        "plt.ylabel('Percentage Score',fontsize = 12, fontweight = 'bold')  \n",
        "plt.show()"
      ],
      "execution_count": 118,
      "outputs": [
        {
          "output_type": "display_data",
          "data": {
            "image/png": "[encoded data removed]",
            "text/plain": [
              "<Figure size 576x432 with 1 Axes>"
            ]
          },
          "metadata": {
            "tags": [],
            "needs_background": "light"
          }
        }
      ]
    },
    {
      "cell_type": "markdown",
      "metadata": {
        "id": "6HUj79wXYCcX",
        "colab_type": "text"
      },
      "source": [
        "**Observation** - As the number of hours studied increases the percentage of score increases.\n",
        "**Inference**- Our training data is highly correlated with the dependent variable. So it is important for training the model."
      ]
    },
    {
      "cell_type": "markdown",
      "metadata": {
        "id": "uhl50dvabrh0",
        "colab_type": "text"
      },
      "source": [
        "## **6. Data Preparation**"
      ]
    },
    {
      "cell_type": "code",
      "metadata": {
        "id": "4Kq9w4AcX83F",
        "colab_type": "code",
        "colab": {}
      },
      "source": [
        "# Preparing data for training our model.\n",
        "X = data.iloc[:,:-1].values\n",
        "Y = data.iloc[:,1].values\n",
        "#print(X)\n",
        "#print(Y)"
      ],
      "execution_count": 119,
      "outputs": []
    },
    {
      "cell_type": "markdown",
      "metadata": {
        "id": "fgVNSLo3cMA5",
        "colab_type": "text"
      },
      "source": [
        "Now that we have our attributes and labels, the next step is to split this data into training and test sets. We'll do this by using Scikit-Learn's built-in train_test_split() method:\n"
      ]
    },
    {
      "cell_type": "code",
      "metadata": {
        "id": "b2oRfz4icYm8",
        "colab_type": "code",
        "colab": {
          "base_uri": "https://localhost:8080/",
          "height": 101
        },
        "outputId": "b71e2835-04a3-40eb-d10e-16eec95a96dc"
      },
      "source": [
        "from sklearn.model_selection import train_test_split\n",
        "X_train,X_test, y_train, y_test = train_test_split(X,Y, test_size = 0.2, random_state = 0)\n",
        "#print(X_train)\n",
        "#print(y_train)\n",
        "print(X_test)\n",
        "#print(y_test)"
      ],
      "execution_count": 120,
      "outputs": [
        {
          "output_type": "stream",
          "text": [
            "[[1.5]\n",
            " [3.2]\n",
            " [7.4]\n",
            " [2.5]\n",
            " [5.9]]\n"
          ],
          "name": "stdout"
        }
      ]
    },
    {
      "cell_type": "markdown",
      "metadata": {
        "id": "Z1y4iXZdd5uo",
        "colab_type": "text"
      },
      "source": [
        "## **7. Model Training : Linear Regression**\n"
      ]
    },
    {
      "cell_type": "code",
      "metadata": {
        "id": "sOWCyluueHK1",
        "colab_type": "code",
        "colab": {
          "base_uri": "https://localhost:8080/",
          "height": 34
        },
        "outputId": "f7086e6a-e4b0-4b74-b56c-4495c7f28a75"
      },
      "source": [
        "from sklearn.linear_model import LinearRegression\n",
        "lr = LinearRegression()\n",
        "lr.fit(X_train,y_train)\n",
        "\n",
        "print(\"Training complete.\")"
      ],
      "execution_count": 128,
      "outputs": [
        {
          "output_type": "stream",
          "text": [
            "Training complete.\n"
          ],
          "name": "stdout"
        }
      ]
    },
    {
      "cell_type": "markdown",
      "metadata": {
        "id": "Jc0MIYDRkSeS",
        "colab_type": "text"
      },
      "source": [
        "### **Plotting the Regression line.**"
      ]
    },
    {
      "cell_type": "code",
      "metadata": {
        "id": "ZRaBnX2LgrOY",
        "colab_type": "code",
        "colab": {
          "base_uri": "https://localhost:8080/",
          "height": 408
        },
        "outputId": "f5326e1c-cd95-4c6e-faab-dc3d902ab969"
      },
      "source": [
        "# Plotting the regression line\n",
        "line = lr.coef_*X+lr.intercept_\n",
        "\n",
        "# Plotting for the test data\n",
        "plt.figure(figsize = (8,6))\n",
        "plt.scatter(X, Y)\n",
        "plt.plot(X, line);\n",
        "plt.xlabel('Number of hours studied', fontsize = 12, fontweight = 'bold')\n",
        "plt.ylabel('Percentage Scores', fontsize = 12, fontweight = 'bold')\n",
        "plt.title('Hours Studied vs Percentage Scores', fontsize = 14, fontweight = 'bold')\n",
        "plt.show()"
      ],
      "execution_count": 129,
      "outputs": [
        {
          "output_type": "display_data",
          "data": {
            "image/png": "[encoded data removed]",
            "text/plain": [
              "<Figure size 576x432 with 1 Axes>"
            ]
          },
          "metadata": {
            "tags": [],
            "needs_background": "light"
          }
        }
      ]
    },
    {
      "cell_type": "markdown",
      "metadata": {
        "id": "IgBP1pI5hyz7",
        "colab_type": "text"
      },
      "source": [
        "## **8. Making Predictions**\n",
        "\n",
        "Now that we have trained our algorithm, it's time to make some predictions.\n",
        "\n"
      ]
    },
    {
      "cell_type": "code",
      "metadata": {
        "id": "FACAEChYiB3q",
        "colab_type": "code",
        "colab": {
          "base_uri": "https://localhost:8080/",
          "height": 101
        },
        "outputId": "6fde5c73-6466-4661-eb02-a4c1a5cb910b"
      },
      "source": [
        "print(X_test) # Testing data - In Hours\n",
        "y_pred = lr.predict(X_test) # Predicting the scores"
      ],
      "execution_count": 130,
      "outputs": [
        {
          "output_type": "stream",
          "text": [
            "[[1.5]\n",
            " [3.2]\n",
            " [7.4]\n",
            " [2.5]\n",
            " [5.9]]\n"
          ],
          "name": "stdout"
        }
      ]
    },
    {
      "cell_type": "code",
      "metadata": {
        "id": "gwQljnKLiMYs",
        "colab_type": "code",
        "colab": {
          "base_uri": "https://localhost:8080/",
          "height": 195
        },
        "outputId": "a1600421-4f92-4a41-f41b-9121ae35b9c8"
      },
      "source": [
        "# Comparing Actual vs Predicted\n",
        "df = pd.DataFrame({'Actual': y_test, 'Predicted': y_pred})  \n",
        "df "
      ],
      "execution_count": 131,
      "outputs": [
        {
          "output_type": "execute_result",
          "data": {
            "text/html": [
              "<div>\n",
              "<style scoped>\n",
              "    .dataframe tbody tr th:only-of-type {\n",
              "        vertical-align: middle;\n",
              "    }\n",
              "\n",
              "    .dataframe tbody tr th {\n",
              "        vertical-align: top;\n",
              "    }\n",
              "\n",
              "    .dataframe thead th {\n",
              "        text-align: right;\n",
              "    }\n",
              "</style>\n",
              "<table border=\"1\" class=\"dataframe\">\n",
              "  <thead>\n",
              "    <tr style=\"text-align: right;\">\n",
              "      <th></th>\n",
              "      <th>Actual</th>\n",
              "      <th>Predicted</th>\n",
              "    </tr>\n",
              "  </thead>\n",
              "  <tbody>\n",
              "    <tr>\n",
              "      <th>0</th>\n",
              "      <td>20</td>\n",
              "      <td>16.884145</td>\n",
              "    </tr>\n",
              "    <tr>\n",
              "      <th>1</th>\n",
              "      <td>27</td>\n",
              "      <td>33.732261</td>\n",
              "    </tr>\n",
              "    <tr>\n",
              "      <th>2</th>\n",
              "      <td>69</td>\n",
              "      <td>75.357018</td>\n",
              "    </tr>\n",
              "    <tr>\n",
              "      <th>3</th>\n",
              "      <td>30</td>\n",
              "      <td>26.794801</td>\n",
              "    </tr>\n",
              "    <tr>\n",
              "      <th>4</th>\n",
              "      <td>62</td>\n",
              "      <td>60.491033</td>\n",
              "    </tr>\n",
              "  </tbody>\n",
              "</table>\n",
              "</div>"
            ],
            "text/plain": [
              "   Actual  Predicted\n",
              "0      20  16.884145\n",
              "1      27  33.732261\n",
              "2      69  75.357018\n",
              "3      30  26.794801\n",
              "4      62  60.491033"
            ]
          },
          "metadata": {
            "tags": []
          },
          "execution_count": 131
        }
      ]
    },
    {
      "cell_type": "markdown",
      "metadata": {
        "id": "WrAq7VBJjEfo",
        "colab_type": "text"
      },
      "source": [
        "## **9. Testing our model with our own data.**"
      ]
    },
    {
      "cell_type": "markdown",
      "metadata": {
        "id": "WJFJ-8XUjzRs",
        "colab_type": "text"
      },
      "source": [
        "Now it's time test our model with our own data and to make predictions."
      ]
    },
    {
      "cell_type": "code",
      "metadata": {
        "id": "Edd6d9JgjNFW",
        "colab_type": "code",
        "colab": {
          "base_uri": "https://localhost:8080/",
          "height": 67
        },
        "outputId": "6274a171-5072-40b8-a2a7-16f4f6eb0e27"
      },
      "source": [
        "# You can also test with your own data\n",
        "hours = float(input(\"Enter no.of hours:\"))\n",
        "prediction= lr.predict([[hours]])\n",
        "print(\"No of Hours = {}\".format(hours))\n",
        "print(\"Predicted Score = {}\".format(prediction[0]))"
      ],
      "execution_count": 134,
      "outputs": [
        {
          "output_type": "stream",
          "text": [
            "Enter no.of hours:9.25\n",
            "No of Hours = 9.25\n",
            "Predicted Score = 93.69173248737539\n"
          ],
          "name": "stdout"
        }
      ]
    },
    {
      "cell_type": "markdown",
      "metadata": {
        "id": "tljCTXtUmI49",
        "colab_type": "text"
      },
      "source": [
        "## **10. Evaluating our Model**"
      ]
    },
    {
      "cell_type": "markdown",
      "metadata": {
        "id": "t3Ua9QT4mSUN",
        "colab_type": "text"
      },
      "source": [
        "The final step is to evaluate the performance of algorithm. This step is particularly important to compare how well different algorithms perform on a particular dataset. For simplicity here, we have chosen the mean square error. There are many such metrics."
      ]
    },
    {
      "cell_type": "code",
      "metadata": {
        "id": "a_KlxQhemdgl",
        "colab_type": "code",
        "colab": {
          "base_uri": "https://localhost:8080/",
          "height": 34
        },
        "outputId": "7f22d3ef-bb2b-4dab-93b4-f41ff4434e60"
      },
      "source": [
        "from sklearn.metrics import mean_squared_error\n",
        "print('Root Mean Squared Error:',np.sqrt(mean_squared_error(y_test,y_pred)))"
      ],
      "execution_count": 133,
      "outputs": [
        {
          "output_type": "stream",
          "text": [
            "Root Mean Squared Error: 4.647447612100373\n"
          ],
          "name": "stdout"
        }
      ]
    },
    {
      "cell_type": "markdown",
      "metadata": {
        "id": "4fea9CqloUZW",
        "colab_type": "text"
      },
      "source": [
        "# **Thank You!**"
      ]
    }
  ]
}